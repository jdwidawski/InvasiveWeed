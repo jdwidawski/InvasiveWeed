{
 "cells": [
  {
   "cell_type": "code",
   "execution_count": 1029,
   "metadata": {},
   "outputs": [],
   "source": [
    "import numpy as np\n",
    "import random\n",
    "import math\n",
    "import collections\n",
    "import operator\n",
    "import time"
   ]
  },
  {
   "cell_type": "code",
   "execution_count": 1030,
   "metadata": {},
   "outputs": [],
   "source": [
    "def generate_population(seed_children_dict):\n",
    "    new_seeds = []\n",
    "    for seed, nchildren in seed_children_dict.items():\n",
    "        for _ in range(nchildren):\n",
    "            x = seed[0]\n",
    "            y = seed[1]\n",
    "            new_x = random.gauss(x,1)\n",
    "            new_y = random.gauss(y,1)\n",
    "            \n",
    "            while new_x < 0 or new_x > 10:\n",
    "                new_x=random.gauss(x,1)\n",
    "                \n",
    "            while new_y < 0 or new_y > 10:\n",
    "                new_y=random.gauss(y,1)\n",
    "                    \n",
    "            new_seeds.append((new_x, new_y))\n",
    "        \n",
    "    return new_seeds"
   ]
  },
  {
   "cell_type": "code",
   "execution_count": 1031,
   "metadata": {},
   "outputs": [],
   "source": [
    "def get_fitness(seed_array):\n",
    "    fitness_array = []\n",
    "    for seed in seed_array:\n",
    "        try:\n",
    "            x = seed[0]\n",
    "            y = seed[1]\n",
    "            fitness = ( x * math.sin(4*x) ) + ( 1.1 * y * math.sin( 2 * y) )\n",
    "        except ValueError:\n",
    "            print(x,y, seed_array)\n",
    "        fitness_array.append(fitness)\n",
    "    return fitness_array"
   ]
  },
  {
   "cell_type": "code",
   "execution_count": 1032,
   "metadata": {},
   "outputs": [],
   "source": [
    "def normalize_fitness(sorted_fitness_dict):\n",
    "    lowest_fitness_element = list(sorted_fitness_dict.items())[0]\n",
    "    if lowest_fitness_element:\n",
    "        new_vals = []\n",
    "        for val in sorted_fitness_dict.values():\n",
    "            new_val = val - list(sorted_fitness_dict.values())[0]\n",
    "            new_vals.append(new_val)\n",
    "        sorted_fitness_dict = dict(zip(sorted_fitness_dict.keys(), new_vals))\n",
    "    \n",
    "    return sorted_fitness_dict\n",
    "            \n"
   ]
  },
  {
   "cell_type": "code",
   "execution_count": 1092,
   "metadata": {},
   "outputs": [],
   "source": [
    "def eval_fitness(normalized_fitness_dict):\n",
    "    children_seed_list = []\n",
    "    maximum = max(normalized_fitness_dict.values())\n",
    "    for val in normalized_fitness_dict.values():\n",
    "        num_seed = round( ( (val+0.000001) ) / maximum)\n",
    "        children_seed_list.append(num_seed)\n",
    "        \n",
    "    seed_children_dict = dict(zip(normalized_fitness_dict.keys(), children_seed_list[::-1]))\n",
    "        \n",
    "    return seed_children_dict"
   ]
  },
  {
   "cell_type": "code",
   "execution_count": 1034,
   "metadata": {},
   "outputs": [],
   "source": [
    "def get_new_seed_count(seed_children_dict):\n",
    "    new_seeds_count = 0\n",
    "    for seed, children in seed_children_dict.items():\n",
    "        for i in range(children):\n",
    "            new_seeds_count += children\n",
    "            \n",
    "    return new_seeds_count\n",
    "    \n",
    "            "
   ]
  },
  {
   "cell_type": "code",
   "execution_count": 1035,
   "metadata": {},
   "outputs": [],
   "source": [
    "def prune_seeds(current_fitness_dict):\n",
    "    sorted_current_fitness_dict = {k: v for k, v in sorted(current_fitness_dict.items(), key=lambda item: item[1])}\n",
    "    #print(list(({k: sorted_current_fitness_dict[k] for k in list(sorted_current_fitness_dict)}.items()))[:5])\n",
    "    current_fitness_dict = dict(list(sorted_current_fitness_dict.items())[0: 100]) "
   ]
  },
  {
   "cell_type": "code",
   "execution_count": 1382,
   "metadata": {},
   "outputs": [
    {
     "name": "stdout",
     "output_type": "stream",
     "text": [
      "Loop runtime: 2.0768113136291504\n",
      "\n",
      "Last iteration:\n",
      "\n",
      "\tBest seed: (9.042, 8.654)\n",
      "\tBest fitness: -18.550211740481537\n",
      "\tBest three fitness scores: [-18.550211740481537, -18.550211740481537, -18.550211740481537]\n"
     ]
    }
   ],
   "source": [
    "pmax = 10**2\n",
    "maxiter = 10**2\n",
    "delta_cap = 10**9\n",
    "num_exceeded_delta = 6\n",
    "\n",
    "\n",
    "seed_array = []\n",
    "for i in range(100):\n",
    "    x = random.uniform(0, 10)\n",
    "    y = random.uniform(0, 10)\n",
    "    seed_array.append((round(x, 3),round(y, 3)))\n",
    "\n",
    "\n",
    "delta = delta_cap + 0.01\n",
    "c = 0\n",
    "current_fitness_dict = {}\n",
    "best_fitness_list =  []\n",
    "\n",
    "\n",
    "start_time = time.time()\n",
    "\n",
    "for i in range(1, maxiter+1):\n",
    "    fitness_array = get_fitness(seed_array)\n",
    "    fitness_dict = dict(zip(seed_array, fitness_array))\n",
    "    sorted_fitness_dict = {k: v for k, v in sorted(fitness_dict.items(), key=lambda item: item[1])}\n",
    "\n",
    "    normalized_fitness_dict = normalize_fitness(sorted_fitness_dict)\n",
    "    seed_children_dict = eval_fitness(normalized_fitness_dict)\n",
    "\n",
    "    fitness_sum = sum(fitness_array)\n",
    "\n",
    "    best_fitness_list.append(sorted(fitness_array)[0])\n",
    "\n",
    "\n",
    "\n",
    "    for seed, fitness in fitness_dict.items():\n",
    "        current_fitness_dict[seed] = fitness\n",
    "\n",
    "    if len(current_fitness_dict) > pmax:\n",
    "            prune_seeds(current_fitness_dict)\n",
    "\n",
    "\n",
    "\n",
    "    seed_array = seed_array + generate_population(seed_children_dict)\n",
    "\n",
    "    #print((best_fitness_list[-1]), best_fitness_list[-1])\n",
    "    if len(best_fitness_list) > 5:\n",
    "        delta = best_fitness_list[-1] - best_fitness_list[-2]\n",
    "    else:\n",
    "        delta = delta_cap + 0.01\n",
    "\n",
    "\n",
    "\n",
    "    #print(f\"Iteration: {i}\\n\")\n",
    "    #print(f\"\\tSummed fitness: {fitness_sum}\")\n",
    "    #print(f\"\\tBest three fitness scores from this iteration: {sorted(fitness_array)[:3]}\")\n",
    "    #print(f\"\\tBest seed: {list(sorted_fitness_dict.items())[0]})\")\n",
    "    #print(f\"\\tNew seeds from this iteration based on fitness score: {get_new_seed_count(seed_children_dict)}\")\n",
    "    #print(\"\\n\\n\")\n",
    "    \n",
    "    if delta < delta_cap:\n",
    "        c += 1\n",
    "    \n",
    "    if c == num_exceeded_delta:\n",
    "        #print(f\"The difference between iterations was lower than the set delta value of {delta_cap}\\n\")\n",
    "        break\n",
    "        \n",
    "\n",
    "      \n",
    "end_time = time.time()\n",
    "print(f\"Loop runtime: {end_time - start_time}\\n\")\n",
    "print(\"Last iteration:\\n\")\n",
    "print(f\"\\tBest seed: {min(current_fitness_dict.items(), key=operator.itemgetter(1))[0]}\")\n",
    "print(f\"\\tBest fitness: {min(current_fitness_dict.items(), key=operator.itemgetter(1))[1]}\")\n",
    "print(f\"\\tBest three fitness scores: {best_fitness_list[::-1][:3]}\")"
   ]
  }
 ],
 "metadata": {
  "kernelspec": {
   "display_name": "Python 3",
   "language": "python",
   "name": "python3"
  }
 },
 "nbformat": 4,
 "nbformat_minor": 4
}
